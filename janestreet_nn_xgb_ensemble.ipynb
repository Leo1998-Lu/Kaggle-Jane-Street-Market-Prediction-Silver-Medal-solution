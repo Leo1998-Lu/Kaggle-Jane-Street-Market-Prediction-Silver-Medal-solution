{
 "cells": [
  {
   "cell_type": "markdown",
   "metadata": {
    "papermill": {
     "duration": 0.01358,
     "end_time": "2021-01-30T15:15:21.656084",
     "exception": false,
     "start_time": "2021-01-30T15:15:21.642504",
     "status": "completed"
    },
    "tags": [],
    "id": "wqBvDhd5cKF1"
   },
   "source": [
    "# Libraries"
   ]
  },
  {
   "cell_type": "code",
   "execution_count": null,
   "metadata": {
    "_cell_guid": "b1076dfc-b9ad-4769-8c92-a6c4dae69d19",
    "_uuid": "8f2839f25d086af736a60e9eeb907d3b93b6e0e5",
    "execution": {
     "iopub.execute_input": "2021-01-30T15:15:21.690764Z",
     "iopub.status.busy": "2021-01-30T15:15:21.689829Z",
     "iopub.status.idle": "2021-01-30T15:15:29.015065Z",
     "shell.execute_reply": "2021-01-30T15:15:29.013931Z"
    },
    "papermill": {
     "duration": 7.345522,
     "end_time": "2021-01-30T15:15:29.015201",
     "exception": false,
     "start_time": "2021-01-30T15:15:21.669679",
     "status": "completed"
    },
    "tags": [],
    "id": "ja7mIpcFcKF2",
    "outputId": "6321e3f2-dc68-4a51-a161-c18953c1e767"
   },
   "outputs": [
    {
     "data": {
      "text/html": [
       "<style type='text/css'>\n",
       ".datatable table.frame { margin-bottom: 0; }\n",
       ".datatable table.frame thead { border-bottom: none; }\n",
       ".datatable table.frame tr.coltypes td {  color: #FFFFFF;  line-height: 6px;  padding: 0 0.5em;}\n",
       ".datatable .bool    { background: #DDDD99; }\n",
       ".datatable .object  { background: #565656; }\n",
       ".datatable .int     { background: #5D9E5D; }\n",
       ".datatable .float   { background: #4040CC; }\n",
       ".datatable .str     { background: #CC4040; }\n",
       ".datatable .row_index {  background: var(--jp-border-color3);  border-right: 1px solid var(--jp-border-color0);  color: var(--jp-ui-font-color3);  font-size: 9px;}\n",
       ".datatable .frame tr.coltypes .row_index {  background: var(--jp-border-color0);}\n",
       ".datatable th:nth-child(2) { padding-left: 12px; }\n",
       ".datatable .hellipsis {  color: var(--jp-cell-editor-border-color);}\n",
       ".datatable .vellipsis {  background: var(--jp-layout-color0);  color: var(--jp-cell-editor-border-color);}\n",
       ".datatable .na {  color: var(--jp-cell-editor-border-color);  font-size: 80%;}\n",
       ".datatable .footer { font-size: 9px; }\n",
       ".datatable .frame_dimensions {  background: var(--jp-border-color3);  border-top: 1px solid var(--jp-border-color0);  color: var(--jp-ui-font-color3);  display: inline-block;  opacity: 0.6;  padding: 1px 10px 1px 5px;}\n",
       "</style>\n"
      ],
      "text/plain": [
       "<IPython.core.display.HTML object>"
      ]
     },
     "execution_count": 0,
     "metadata": {
      "tags": []
     },
     "output_type": "execute_result"
    }
   ],
   "source": [
    "# This Python 3 environment comes with many helpful analytics libraries installed\n",
    "# It is defined by the kaggle/python Docker image: https://github.com/kaggle/docker-python\n",
    "# For example, here's several helpful packages to load\n",
    "\n",
    "import numpy as np # linear algebra\n",
    "import pandas as pd # data processing, CSV file I/O (e.g. pd.read_csv)\n",
    "\n",
    "# Input data files are available in the read-only \"../input/\" directory\n",
    "# For example, running this (by clicking run or pressing Shift+Enter) will list all files under the input directory\n",
    "\n",
    "import os\n",
    "\n",
    "# treelite\n",
    "import treelite\n",
    "import treelite_runtime \n",
    "\n",
    "import tensorflow as tf\n",
    "import tensorflow_addons as tfa\n",
    "import numpy as np\n",
    "import pandas as pd\n",
    "from sklearn.model_selection import GroupKFold\n",
    "import pathlib\n",
    "from tqdm import tqdm\n",
    "from random import choices\n",
    "\n",
    "import operator\n",
    "import xgboost as xgb\n",
    "        \n",
    "# You can write up to 20GB to the current directory (/kaggle/working/) that gets preserved as output when you create a version using \"Save & Run All\" \n",
    "# You can also write temporary files to /kaggle/temp/, but they won't be saved outside of the current session"
   ]
  },
  {
   "cell_type": "code",
   "execution_count": null,
   "metadata": {
    "execution": {
     "iopub.execute_input": "2021-01-30T15:15:29.053001Z",
     "iopub.status.busy": "2021-01-30T15:15:29.052145Z",
     "iopub.status.idle": "2021-01-30T15:15:29.057134Z",
     "shell.execute_reply": "2021-01-30T15:15:29.056417Z"
    },
    "papermill": {
     "duration": 0.026822,
     "end_time": "2021-01-30T15:15:29.057257",
     "exception": false,
     "start_time": "2021-01-30T15:15:29.030435",
     "status": "completed"
    },
    "tags": [],
    "id": "D6YGYZ7jcKF6",
    "outputId": "f213f38d-b344-4f86-d31c-aaaf3a123bea"
   },
   "outputs": [
    {
     "name": "stdout",
     "output_type": "stream",
     "text": [
      "Tensorflow version 2.3.1\n",
      "Accelerated Linear Algebra enabled\n"
     ]
    }
   ],
   "source": [
    "# tf setup\n",
    "print(\"Tensorflow version \" + tf.__version__)\n",
    "AUTO = tf.data.experimental.AUTOTUNE\n",
    "\n",
    "MIXED_PRECISION = False\n",
    "XLA_ACCELERATE = True\n",
    "\n",
    "if MIXED_PRECISION:\n",
    "    from tensorflow.keras.mixed_precision import experimental as mixed_precision\n",
    "    if tpu: policy = tf.keras.mixed_precision.experimental.Policy('mixed_bfloat16')\n",
    "    else: policy = tf.keras.mixed_precision.experimental.Policy('mixed_float16')\n",
    "    mixed_precision.set_policy(policy)\n",
    "    print('Mixed precision enabled')\n",
    "\n",
    "if XLA_ACCELERATE:\n",
    "    tf.config.optimizer.set_jit(True)\n",
    "    print('Accelerated Linear Algebra enabled')"
   ]
  },
  {
   "cell_type": "code",
   "execution_count": null,
   "metadata": {
    "execution": {
     "iopub.execute_input": "2021-01-30T15:15:29.092961Z",
     "iopub.status.busy": "2021-01-30T15:15:29.091724Z",
     "iopub.status.idle": "2021-01-30T15:15:29.094745Z",
     "shell.execute_reply": "2021-01-30T15:15:29.094262Z"
    },
    "papermill": {
     "duration": 0.022071,
     "end_time": "2021-01-30T15:15:29.094840",
     "exception": false,
     "start_time": "2021-01-30T15:15:29.072769",
     "status": "completed"
    },
    "tags": [],
    "id": "cxxGkIw7cKF7"
   },
   "outputs": [],
   "source": [
    "SEED = 2021\n",
    "START_DATE = 86\n",
    "FOLDS = 5\n",
    "NN_NAME = 'mlp' # 1dcnn, resnet, mlp"
   ]
  },
  {
   "cell_type": "markdown",
   "metadata": {
    "papermill": {
     "duration": 0.01511,
     "end_time": "2021-01-30T15:15:29.124992",
     "exception": false,
     "start_time": "2021-01-30T15:15:29.109882",
     "status": "completed"
    },
    "tags": [],
    "id": "II4Nm0JgcKF8"
   },
   "source": [
    "# Loading the training data"
   ]
  },
  {
   "cell_type": "code",
   "execution_count": null,
   "metadata": {
    "execution": {
     "iopub.execute_input": "2021-01-30T15:15:29.164864Z",
     "iopub.status.busy": "2021-01-30T15:15:29.164000Z",
     "iopub.status.idle": "2021-01-30T15:15:54.882387Z",
     "shell.execute_reply": "2021-01-30T15:15:54.883082Z"
    },
    "papermill": {
     "duration": 25.742994,
     "end_time": "2021-01-30T15:15:54.883294",
     "exception": false,
     "start_time": "2021-01-30T15:15:29.140300",
     "status": "completed"
    },
    "tags": [],
    "id": "Frs1UXjjcKF-",
    "outputId": "c3f8535b-7b8b-46e9-f6c0-f318c3cae729"
   },
   "outputs": [
    {
     "name": "stdout",
     "output_type": "stream",
     "text": [
      "CPU times: user 3.73 s, sys: 5.27 s, total: 9.01 s\n",
      "Wall time: 25.7 s\n"
     ]
    }
   ],
   "source": [
    "%%time\n",
    "\n",
    "# train = pd.read_csv('../input/jane-street-market-prediction/train.csv')\n",
    "train = pd.read_feather('../input/janestreet-save-as-feather/train.feather')\n",
    "train = train.query(f'date >= {START_DATE}').reset_index(drop = True) \n",
    "train = train.astype({c: np.float32 for c in train.select_dtypes(include='float64').columns}) #limit memory use\n",
    "train.fillna(train.mean(),inplace=True)\n",
    "train = train.query('weight > 0').reset_index(drop = True)\n",
    "#train['action'] = (train['resp'] > 0).astype('int')\n",
    "train['action'] =  (  (train['resp_1'] > 0 ) & (train['resp_2'] > 0 ) & (train['resp_3'] > 0 ) & (train['resp_4'] > 0 ) &  (train['resp'] > 0 )   ).astype('int')\n",
    "features = [c for c in train.columns if 'feature' in c]\n",
    "\n",
    "resp_cols = ['resp_1', 'resp_2', 'resp_3', 'resp', 'resp_4']\n",
    "\n",
    "X = train[features].values\n",
    "y = np.stack([(train[c] > 0).astype('int') for c in resp_cols]).T #Multitarget\n",
    "\n",
    "f_mean = np.mean(train[features[1:]].values,axis=0)"
   ]
  },
  {
   "cell_type": "markdown",
   "metadata": {
    "papermill": {
     "duration": 0.015779,
     "end_time": "2021-01-30T15:15:54.916688",
     "exception": false,
     "start_time": "2021-01-30T15:15:54.900909",
     "status": "completed"
    },
    "tags": [],
    "id": "wHJ8kjoHcKGA"
   },
   "source": [
    "# Load XGB with Treelite"
   ]
  },
  {
   "cell_type": "code",
   "execution_count": null,
   "metadata": {
    "execution": {
     "iopub.execute_input": "2021-01-30T15:15:54.953618Z",
     "iopub.status.busy": "2021-01-30T15:15:54.953007Z",
     "iopub.status.idle": "2021-01-30T15:15:54.996231Z",
     "shell.execute_reply": "2021-01-30T15:15:54.997848Z"
    },
    "papermill": {
     "duration": 0.064449,
     "end_time": "2021-01-30T15:15:54.998028",
     "exception": false,
     "start_time": "2021-01-30T15:15:54.933579",
     "status": "completed"
    },
    "tags": [],
    "id": "j3a-SZbCcKGA",
    "outputId": "276d2519-cc94-4910-ef38-9f154326c79a"
   },
   "outputs": [
    {
     "name": "stdout",
     "output_type": "stream",
     "text": [
      "[15:15:54] /opt/conda/lib/python3.7/site-packages/treelite_runtime/predictor.py:311: Dynamic shared library /kaggle/input/janestreet-faster-inference-by-xgb-with-treelite/mymodel.so has been successfully loaded into memory\n"
     ]
    }
   ],
   "source": [
    "predictor = treelite_runtime.Predictor('../input/janestreet-faster-inference-by-xgb-with-treelite/mymodel.so', verbose=True)"
   ]
  },
  {
   "cell_type": "markdown",
   "metadata": {
    "papermill": {
     "duration": 0.025639,
     "end_time": "2021-01-30T15:15:55.049959",
     "exception": false,
     "start_time": "2021-01-30T15:15:55.024320",
     "status": "completed"
    },
    "tags": [],
    "id": "H4ZgBTa_cKGB"
   },
   "source": [
    "# Load NN"
   ]
  },
  {
   "cell_type": "code",
   "execution_count": null,
   "metadata": {
    "execution": {
     "iopub.execute_input": "2021-01-30T15:15:55.164440Z",
     "iopub.status.busy": "2021-01-30T15:15:55.163511Z",
     "iopub.status.idle": "2021-01-30T15:15:55.177202Z",
     "shell.execute_reply": "2021-01-30T15:15:55.178411Z"
    },
    "papermill": {
     "duration": 0.102518,
     "end_time": "2021-01-30T15:15:55.178602",
     "exception": false,
     "start_time": "2021-01-30T15:15:55.076084",
     "status": "completed"
    },
    "tags": [],
    "id": "ZmrCQBvOcKGB"
   },
   "outputs": [],
   "source": [
    "def create_autoencoder(input_dim,output_dim,noise=0.05):\n",
    "    i = tf.keras.layers.Input(input_dim)\n",
    "    encoded = tf.keras.layers.BatchNormalization()(i)\n",
    "    encoded = tf.keras.layers.GaussianNoise(noise)(encoded)\n",
    "    encoded = tf.keras.layers.Dense(64,activation='relu')(encoded)\n",
    "    decoded = tf.keras.layers.Dropout(0.2)(encoded)\n",
    "    decoded = tf.keras.layers.Dense(input_dim,name='decoded')(decoded)\n",
    "    x = tf.keras.layers.Dense(32,activation='relu')(decoded)\n",
    "    x = tf.keras.layers.BatchNormalization()(x)\n",
    "    x = tf.keras.layers.Dropout(0.2)(x)\n",
    "    x = tf.keras.layers.Dense(output_dim,activation='sigmoid',name='label_output')(x)\n",
    "    \n",
    "    encoder = tf.keras.models.Model(inputs=i,outputs=encoded)\n",
    "    autoencoder = tf.keras.models.Model(inputs=i,outputs=[decoded,x])\n",
    "    \n",
    "    autoencoder.compile(optimizer=tf.keras.optimizers.Adam(0.001), \n",
    "                        loss={'decoded':'mse','label_output':'binary_crossentropy'})\n",
    "    return autoencoder, encoder"
   ]
  },
  {
   "cell_type": "code",
   "execution_count": null,
   "metadata": {
    "execution": {
     "iopub.execute_input": "2021-01-30T15:15:55.242554Z",
     "iopub.status.busy": "2021-01-30T15:15:55.238779Z",
     "iopub.status.idle": "2021-01-30T15:15:58.664263Z",
     "shell.execute_reply": "2021-01-30T15:15:58.663147Z"
    },
    "papermill": {
     "duration": 3.458379,
     "end_time": "2021-01-30T15:15:58.664380",
     "exception": false,
     "start_time": "2021-01-30T15:15:55.206001",
     "status": "completed"
    },
    "tags": [],
    "id": "7n3Vhzd2cKGC"
   },
   "outputs": [],
   "source": [
    "autoencoder, encoder = create_autoencoder(X.shape[-1],y.shape[-1],noise=0.1)\n",
    "encoder.load_weights('../input/janestreet-1dcnn-for-feature-extraction-train/encoder.hdf5') \n",
    "encoder.trainable = False"
   ]
  },
  {
   "cell_type": "code",
   "execution_count": null,
   "metadata": {
    "execution": {
     "iopub.execute_input": "2021-01-30T15:15:58.715900Z",
     "iopub.status.busy": "2021-01-30T15:15:58.714125Z",
     "iopub.status.idle": "2021-01-30T15:15:58.716713Z",
     "shell.execute_reply": "2021-01-30T15:15:58.717183Z"
    },
    "papermill": {
     "duration": 0.035375,
     "end_time": "2021-01-30T15:15:58.717295",
     "exception": false,
     "start_time": "2021-01-30T15:15:58.681920",
     "status": "completed"
    },
    "tags": [],
    "id": "EuLd0gjwcKGC"
   },
   "outputs": [],
   "source": [
    "def create_1dcnn(input_dim, output_dim, encoder):\n",
    "    # input\n",
    "    inputs = tf.keras.layers.Input(input_dim)\n",
    "    \n",
    "    x = encoder(inputs)\n",
    "    x = tf.keras.layers.Concatenate()([x,inputs]) #use both raw and encoded features\n",
    "    \n",
    "    # normalize\n",
    "    x = tf.keras.layers.BatchNormalization()(x)\n",
    "    \n",
    "    # 1dcnn\n",
    "    x = tf.keras.layers.Dense(4096, activation='relu')(x)\n",
    "    x = tf.keras.layers.Reshape((256, 16))(x)\n",
    "    x = tf.keras.layers.Conv1D(filters=16,\n",
    "                      kernel_size=7,\n",
    "                      strides=1,\n",
    "                      activation='relu')(x)\n",
    "    x = tf.keras.layers.MaxPooling1D(pool_size=2)(x)\n",
    "    x = tf.keras.layers.Flatten()(x)\n",
    "    \n",
    "    # ffn\n",
    "    for i in range(2):\n",
    "        x = tf.keras.layers.Dense(256 // (2 ** i), activation='relu')(x)\n",
    "        x = tf.keras.layers.BatchNormalization()(x)\n",
    "        x = tf.keras.layers.GaussianNoise(0.01)(x)\n",
    "        x = tf.keras.layers.Dropout(0.2)(x)\n",
    "    x = tf.keras.layers.Dense(output_dim, activation='sigmoid')(x)\n",
    "    \n",
    "    model = tf.keras.models.Model(inputs=inputs,outputs=x)\n",
    "    \n",
    "    # compile\n",
    "    opt = tfa.optimizers.RectifiedAdam(learning_rate=1e-03)\n",
    "    opt = tfa.optimizers.SWA(opt)\n",
    "    loss = tf.keras.losses.BinaryCrossentropy(label_smoothing=1e-02)\n",
    "    model.compile(optimizer=opt, \n",
    "                  loss=loss, \n",
    "                  metrics=[tf.keras.metrics.AUC(name = 'auc')])\n",
    "    return model"
   ]
  },
  {
   "cell_type": "code",
   "execution_count": null,
   "metadata": {
    "execution": {
     "iopub.execute_input": "2021-01-30T15:15:58.771784Z",
     "iopub.status.busy": "2021-01-30T15:15:58.764455Z",
     "iopub.status.idle": "2021-01-30T15:15:58.774473Z",
     "shell.execute_reply": "2021-01-30T15:15:58.773965Z"
    },
    "papermill": {
     "duration": 0.040373,
     "end_time": "2021-01-30T15:15:58.774579",
     "exception": false,
     "start_time": "2021-01-30T15:15:58.734206",
     "status": "completed"
    },
    "tags": [],
    "id": "LjP1sGp4cKGC"
   },
   "outputs": [],
   "source": [
    "def create_resnet(n_features, n_labels, encoder, label_smoothing = 0.0005):    \n",
    "    input_1 = tf.keras.layers.Input(shape = (n_features,))\n",
    "    input_2 = encoder(input_1)\n",
    "\n",
    "    head_1 = tf.keras.Sequential([\n",
    "        tf.keras.layers.BatchNormalization(),\n",
    "        tf.keras.layers.Dense(512, activation=\"elu\"), \n",
    "        tf.keras.layers.BatchNormalization(),\n",
    "        tf.keras.layers.Dropout(0.4),\n",
    "        tf.keras.layers.Dense(256, activation = \"elu\")\n",
    "        ],name='Head1') \n",
    "\n",
    "    input_3 = head_1(input_1)\n",
    "    input_3_concat = tf.keras.layers.Concatenate()([input_2, input_3])\n",
    "\n",
    "    head_2 = tf.keras.Sequential([\n",
    "        tf.keras.layers.BatchNormalization(),\n",
    "        tf.keras.layers.Dense(512, \"relu\"),\n",
    "        tf.keras.layers.BatchNormalization(),\n",
    "        tf.keras.layers.Dropout(0.3),\n",
    "        tf.keras.layers.Dense(512, \"elu\"),\n",
    "        tf.keras.layers.BatchNormalization(),\n",
    "        tf.keras.layers.Dropout(0.3),\n",
    "        tf.keras.layers.Dense(256, \"relu\"),\n",
    "        tf.keras.layers.BatchNormalization(),\n",
    "        tf.keras.layers.Dropout(0.3),\n",
    "        tf.keras.layers.Dense(256, \"elu\")\n",
    "        ],name='Head2')\n",
    "\n",
    "    input_4 = head_2(input_3_concat)\n",
    "    input_4_avg = tf.keras.layers.Average()([input_3, input_4]) \n",
    "\n",
    "    head_3 = tf.keras.Sequential([\n",
    "        tf.keras.layers.BatchNormalization(),\n",
    "        tf.keras.layers.Dense(256, kernel_initializer='lecun_normal', activation='selu'),\n",
    "        tf.keras.layers.BatchNormalization(),\n",
    "        tf.keras.layers.Dropout(0.2),\n",
    "        tf.keras.layers.Dense(128, kernel_initializer='lecun_normal', activation='selu'),\n",
    "        tf.keras.layers.BatchNormalization(),\n",
    "        tf.keras.layers.Dropout(0.2),\n",
    "        tf.keras.layers.Lambda(lambda x: tf.math.l2_normalize(x, axis=1), name='l2_norm'),\n",
    "        tf.keras.layers.Dense(n_labels, activation=\"sigmoid\")\n",
    "        ],name='Head3')\n",
    "\n",
    "    output = head_3(input_4_avg)\n",
    "\n",
    "    model = tf.keras.models.Model(inputs = [input_1, ], outputs = output)\n",
    "    opt = tfa.optimizers.RectifiedAdam(learning_rate=1e-03)\n",
    "    opt = tfa.optimizers.SWA(opt)\n",
    "    model.compile(optimizer=opt, \n",
    "                  loss=tf.keras.losses.BinaryCrossentropy(label_smoothing=label_smoothing), \n",
    "                  metrics=['AUC'])\n",
    "    \n",
    "    return model"
   ]
  },
  {
   "cell_type": "code",
   "execution_count": null,
   "metadata": {
    "execution": {
     "iopub.execute_input": "2021-01-30T15:15:58.813910Z",
     "iopub.status.busy": "2021-01-30T15:15:58.813016Z",
     "iopub.status.idle": "2021-01-30T15:15:58.818850Z",
     "shell.execute_reply": "2021-01-30T15:15:58.818148Z"
    },
    "papermill": {
     "duration": 0.027625,
     "end_time": "2021-01-30T15:15:58.818970",
     "exception": false,
     "start_time": "2021-01-30T15:15:58.791345",
     "status": "completed"
    },
    "tags": [],
    "id": "qefGXx0mcKGE",
    "outputId": "58b12ddd-61d8-407f-acf5-535236c56077"
   },
   "outputs": [
    {
     "name": "stdout",
     "output_type": "stream",
     "text": [
      "CPU times: user 5 µs, sys: 0 ns, total: 5 µs\n",
      "Wall time: 9.78 µs\n"
     ]
    }
   ],
   "source": [
    "%%time\n",
    "\n",
    "if NN_NAME == '1dcnn':\n",
    "    models = []\n",
    "\n",
    "    for fold in range(FOLDS):\n",
    "        # 1dcnn\n",
    "        tf.keras.backend.clear_session()\n",
    "        model = create_1dcnn(X.shape[-1], y.shape[-1], encoder)\n",
    "        model.load_weights(pathlib.Path(f'../input/janestreet-1dcnn-for-feature-extraction-train/model_{SEED}_{fold}.hdf5'))\n",
    "        models.append(model)\n",
    "        \n",
    "    models = [models[-1]]"
   ]
  },
  {
   "cell_type": "code",
   "execution_count": null,
   "metadata": {
    "execution": {
     "iopub.execute_input": "2021-01-30T15:15:58.860345Z",
     "iopub.status.busy": "2021-01-30T15:15:58.859486Z",
     "iopub.status.idle": "2021-01-30T15:15:58.864755Z",
     "shell.execute_reply": "2021-01-30T15:15:58.864250Z"
    },
    "papermill": {
     "duration": 0.027779,
     "end_time": "2021-01-30T15:15:58.864846",
     "exception": false,
     "start_time": "2021-01-30T15:15:58.837067",
     "status": "completed"
    },
    "tags": [],
    "id": "WQWr0W3ncKGR",
    "outputId": "2f2fc31a-577f-4b5d-ea4c-74ead391a2ab"
   },
   "outputs": [
    {
     "name": "stdout",
     "output_type": "stream",
     "text": [
      "CPU times: user 2 µs, sys: 1e+03 ns, total: 3 µs\n",
      "Wall time: 6.91 µs\n"
     ]
    }
   ],
   "source": [
    "%%time\n",
    "\n",
    "if NN_NAME == 'resnet':\n",
    "    models = []\n",
    "\n",
    "    for fold in range(FOLDS):\n",
    "        tf.keras.backend.clear_session()\n",
    "        model = create_resnet(X.shape[-1], y.shape[-1], encoder)\n",
    "        model.load_weights(pathlib.Path(f'../input/janestreet-resnet-with-autoencoder-train/model_{SEED}_{fold}.hdf5'))\n",
    "        models.append(model)\n",
    "        \n",
    "    models = [models[-1]]"
   ]
  },
  {
   "cell_type": "code",
   "execution_count": null,
   "metadata": {
    "execution": {
     "iopub.execute_input": "2021-01-30T15:15:58.904446Z",
     "iopub.status.busy": "2021-01-30T15:15:58.903871Z",
     "iopub.status.idle": "2021-01-30T15:15:59.304398Z",
     "shell.execute_reply": "2021-01-30T15:15:59.305098Z"
    },
    "papermill": {
     "duration": 0.422668,
     "end_time": "2021-01-30T15:15:59.305293",
     "exception": false,
     "start_time": "2021-01-30T15:15:58.882625",
     "status": "completed"
    },
    "tags": [],
    "id": "RU6xisrOcKGS",
    "outputId": "8c13c414-d686-49cd-c517-a59d2446be5b"
   },
   "outputs": [
    {
     "name": "stdout",
     "output_type": "stream",
     "text": [
      "CPU times: user 309 ms, sys: 9.96 ms, total: 319 ms\n",
      "Wall time: 387 ms\n"
     ]
    }
   ],
   "source": [
    "%%time\n",
    "\n",
    "if NN_NAME == 'mlp':\n",
    "    model = tf.keras.models.load_model('../input/jane-street-with-keras-nn-overfit/model.h5')\n",
    "    models = [model]"
   ]
  },
  {
   "cell_type": "markdown",
   "metadata": {
    "papermill": {
     "duration": 0.025175,
     "end_time": "2021-01-30T15:15:59.358884",
     "exception": false,
     "start_time": "2021-01-30T15:15:59.333709",
     "status": "completed"
    },
    "tags": [],
    "id": "jGwOMhcUcKGT"
   },
   "source": [
    "## Submission"
   ]
  },
  {
   "cell_type": "code",
   "execution_count": null,
   "metadata": {
    "execution": {
     "iopub.execute_input": "2021-01-30T15:15:59.421149Z",
     "iopub.status.busy": "2021-01-30T15:15:59.420219Z",
     "iopub.status.idle": "2021-01-30T15:19:53.392470Z",
     "shell.execute_reply": "2021-01-30T15:19:53.391949Z"
    },
    "papermill": {
     "duration": 234.008741,
     "end_time": "2021-01-30T15:19:53.392615",
     "exception": false,
     "start_time": "2021-01-30T15:15:59.383874",
     "status": "completed"
    },
    "tags": [],
    "id": "vkC1hi8gcKGU",
    "outputId": "5eaa98a8-1d26-4da8-850a-b23183bce1f3"
   },
   "outputs": [
    {
     "name": "stderr",
     "output_type": "stream",
     "text": [
      "15219it [03:53, 65.06it/s]\n"
     ]
    }
   ],
   "source": [
    "f = np.median\n",
    "th = 0.502\n",
    "\n",
    "import janestreet\n",
    "env = janestreet.make_env()\n",
    "for (test_df, pred_df) in tqdm(env.iter_test()):\n",
    "    if test_df['weight'].item() > 0:\n",
    "        x_tt = test_df.loc[:, features].values\n",
    "        \n",
    "        # GBDT inference with treelite\n",
    "        batch = treelite_runtime.Batch.from_npy2d(x_tt)\n",
    "        xgb_pred = predictor.predict(batch)\n",
    "    \n",
    "        # NN inference\n",
    "        if np.isnan(x_tt[:, 1:].sum()):\n",
    "            x_tt[:, 1:] = np.nan_to_num(x_tt[:, 1:]) + np.isnan(x_tt[:, 1:]) * f_mean\n",
    "        \n",
    "        pred = np.mean([model(x_tt, training = False).numpy() for model in models],axis=0)\n",
    "        pred = f(pred)\n",
    "        \n",
    "        # ensemble\n",
    "        pred_df.action = np.where(0.7*pred + 0.3*xgb_pred >= th, 1, 0).astype(int)\n",
    "    else:\n",
    "        pred_df.action = 0\n",
    "    env.predict(pred_df)"
   ]
  }
 ],
 "metadata": {
  "kernelspec": {
   "display_name": "Python 3",
   "language": "python",
   "name": "python3"
  },
  "language_info": {
   "codemirror_mode": {
    "name": "ipython",
    "version": 3
   },
   "file_extension": ".py",
   "mimetype": "text/x-python",
   "name": "python",
   "nbconvert_exporter": "python",
   "pygments_lexer": "ipython3",
   "version": "3.7.6"
  },
  "papermill": {
   "duration": 334.942197,
   "end_time": "2021-01-30T15:19:55.333229",
   "environment_variables": {},
   "exception": null,
   "input_path": "__notebook__.ipynb",
   "output_path": "__notebook__.ipynb",
   "parameters": {},
   "start_time": "2021-01-30T15:14:20.391032",
   "version": "2.1.0"
  },
  "colab": {
   "name": "janestreet-nn-xgb-ensemble.ipynb",
   "provenance": []
  }
 },
 "nbformat": 4,
 "nbformat_minor": 0
}
